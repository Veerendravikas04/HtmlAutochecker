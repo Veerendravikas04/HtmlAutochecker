{
  "nbformat": 4,
  "nbformat_minor": 0,
  "metadata": {
    "colab": {
      "provenance": [],
      "include_colab_link": true
    },
    "kernelspec": {
      "name": "python3",
      "display_name": "Python 3"
    },
    "language_info": {
      "name": "python"
    }
  },
  "cells": [
    {
      "cell_type": "markdown",
      "metadata": {
        "id": "view-in-github",
        "colab_type": "text"
      },
      "source": [
        "<a href=\"https://colab.research.google.com/github/Veerendravikas04/HtmlAutochecker/blob/main/Autochecker_html.ipynb\" target=\"_parent\"><img src=\"https://colab.research.google.com/assets/colab-badge.svg\" alt=\"Open In Colab\"/></a>"
      ]
    },
    {
      "cell_type": "code",
      "execution_count": null,
      "metadata": {
        "id": "V5AO3X34HOQi"
      },
      "outputs": [],
      "source": [
        "import json\n",
        "with open(\"data.json\", \"r\") as file:\n",
        "    data = json.load(file)"
      ]
    },
    {
      "cell_type": "code",
      "source": [
        "data"
      ],
      "metadata": {
        "colab": {
          "base_uri": "https://localhost:8080/"
        },
        "id": "kjZMimESHQts",
        "outputId": "57317bb3-91dd-41ba-d0e8-1ff45f6687a3"
      },
      "execution_count": null,
      "outputs": [
        {
          "output_type": "execute_result",
          "data": {
            "text/plain": [
              "{'X_train': ['<div class=\"example><div>',\n",
              "  '<p>Hello<p>',\n",
              "  '<img src=example.jpg>',\n",
              "  '<ul><li>Item 1<li><li>Item 2<ul>',\n",
              "  '<div><span>Text</div></span>',\n",
              "  '<button type=submit>Submit</button>',\n",
              "  '<style>body {font-size:16px;}</style>',\n",
              "  '<header><nav>Menu<nav><header>',\n",
              "  '<script src=app.js></script>',\n",
              "  '<div><section>Section<div>',\n",
              "  '<textarea placeholder=Enter text></textarea>',\n",
              "  '<form action=/submit method=POST><form>',\n",
              "  '<div><section>Section<div>',\n",
              "  '<div class=content><p>Paragraph<div>',\n",
              "  '<a href=example.com>Click Here',\n",
              "  '<h1>Header<h1>',\n",
              "  '<footer><p>Footer<p><footer>',\n",
              "  '<meta charset=utf-8>',\n",
              "  '<input type=text placeholder=Enter name>',\n",
              "  '<div><article>Article<div></article>',\n",
              "  '<div><div><p>Nested<p><div><div>',\n",
              "  '<div><img src=image.jpg><p>Image description<p><div>',\n",
              "  '<table><tr><td>Data<td><tr><table>',\n",
              "  '<span><b>Bold Text</b><span>',\n",
              "  '<h2>Title<h2><p>Subtitle<p>',\n",
              "  '<div><footer><h3>Footer Header<h3><footer><div>',\n",
              "  '<nav><ul><li>Home<li><li>Contact<ul><nav>'],\n",
              " 'y_train': ['<div class=\"example\"></div>',\n",
              "  '<p>Hello</p>',\n",
              "  '<img src=\"example.jpg\">',\n",
              "  '<ul><li>Item 1</li><li>Item 2</li></ul>',\n",
              "  '<div><span>Text</span></div>',\n",
              "  '<button type=\"submit\">Submit</button>',\n",
              "  '<style>body {font-size:16px;}</style>',\n",
              "  '<header><nav>Menu</nav></header>',\n",
              "  '<script src=\"app.js\"></script>',\n",
              "  '<div><section>Section</section></div>',\n",
              "  '<textarea placeholder=\"Enter text\"></textarea>',\n",
              "  '<form action=\"/submit\" method=\"POST\"></form>',\n",
              "  '<div><section>Section</section></div>',\n",
              "  '<div class=\"content\"><p>Paragraph</p></div>',\n",
              "  '<a href=\"example.com\">Click Here</a>',\n",
              "  '<h1>Header</h1>',\n",
              "  '<footer><p>Footer</p></footer>',\n",
              "  '<meta charset=\"utf-8\">',\n",
              "  '<input type=\"text\" placeholder=\"Enter name\">',\n",
              "  '<div><article>Article</article></div>',\n",
              "  '<div><div><p>Nested</p></div></div>',\n",
              "  '<div><img src=\"image.jpg\"><p>Image description</p></div>',\n",
              "  '<table><tr><td>Data</td></tr></table>',\n",
              "  '<span><b>Bold Text</b></span>',\n",
              "  '<h2>Title</h2><p>Subtitle</p>',\n",
              "  '<div><footer><h3>Footer Header</h3></footer></div>',\n",
              "  '<nav><ul><li>Home</li><li>Contact</li></ul></nav>']}"
            ]
          },
          "metadata": {},
          "execution_count": 15
        }
      ]
    },
    {
      "cell_type": "code",
      "source": [
        "x_train=data['X_train']\n",
        "y_train=data['y_train']"
      ],
      "metadata": {
        "id": "6IwkDYL_SP2s"
      },
      "execution_count": null,
      "outputs": []
    },
    {
      "cell_type": "code",
      "source": [
        "from sklearn.feature_extraction.text import CountVectorizer"
      ],
      "metadata": {
        "id": "w8mc2qG1S_sm"
      },
      "execution_count": null,
      "outputs": []
    },
    {
      "cell_type": "code",
      "source": [
        "vectorizer = CountVectorizer()\n",
        "X_train_vector_data = vectorizer.fit_transform(x_train)"
      ],
      "metadata": {
        "id": "kEWGjzzmSJz_"
      },
      "execution_count": null,
      "outputs": []
    },
    {
      "cell_type": "code",
      "source": [
        "import numpy as np\n",
        "from sklearn.ensemble import RandomForestClassifier\n",
        "from time import perf_counter"
      ],
      "metadata": {
        "id": "_RNTSKjoSOT_"
      },
      "execution_count": null,
      "outputs": []
    },
    {
      "cell_type": "code",
      "source": [
        "start_time = perf_counter()\n",
        "model = RandomForestClassifier()\n",
        "model.fit(X_train_vector_data, y_train)\n",
        "end_time = perf_counter()\n",
        "model_speed = (end_time - start_time) * 1000"
      ],
      "metadata": {
        "id": "DMUfeuSjSwEY"
      },
      "execution_count": null,
      "outputs": []
    },
    {
      "cell_type": "code",
      "source": [
        "def autocorrect_html(html_code):\n",
        "    html_code = vectorizer.transform([html_code])\n",
        "    corrected_answer = model.predict(html_code)[0]\n",
        "    return corrected_answer"
      ],
      "metadata": {
        "id": "_OspE3rFSXV4"
      },
      "execution_count": null,
      "outputs": []
    },
    {
      "cell_type": "code",
      "source": [
        "example_html = \"<div><section>Section<div>\"\n",
        "corrected_html = autocorrect_html(example_html)\n",
        "print(corrected_html)"
      ],
      "metadata": {
        "colab": {
          "base_uri": "https://localhost:8080/"
        },
        "id": "oDvabzBYSXXK",
        "outputId": "7b9ab654-2f6e-4ee4-ae41-59ccfa624758"
      },
      "execution_count": null,
      "outputs": [
        {
          "output_type": "stream",
          "name": "stdout",
          "text": [
            "<div><section>Section</section></div>\n"
          ]
        }
      ]
    },
    {
      "cell_type": "code",
      "source": [
        "accuracy = model.score(X_train_vector_data, y_train) * 100\n",
        "print(f\"Model Accuracy: {accuracy:.2f}%\")\n",
        "print(f\"Model Speed: {model_speed:.2f} ms\")"
      ],
      "metadata": {
        "colab": {
          "base_uri": "https://localhost:8080/"
        },
        "id": "xyEhBT46SXcy",
        "outputId": "7fe29b95-679e-46b9-e772-2a062caacb81"
      },
      "execution_count": null,
      "outputs": [
        {
          "output_type": "stream",
          "name": "stdout",
          "text": [
            "Model Accuracy: 100.00%\n",
            "Model Speed: 277.15 ms\n"
          ]
        }
      ]
    },
    {
      "cell_type": "code",
      "source": [],
      "metadata": {
        "id": "QonGtAuvSXeC"
      },
      "execution_count": null,
      "outputs": []
    },
    {
      "cell_type": "code",
      "source": [],
      "metadata": {
        "id": "VB2QEz-BSXiG"
      },
      "execution_count": null,
      "outputs": []
    }
  ]
}